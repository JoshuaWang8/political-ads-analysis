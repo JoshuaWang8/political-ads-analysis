{
 "cells": [
  {
   "cell_type": "markdown",
   "id": "5d5f0ed8-ac5a-48af-b6cb-a69fe07c8ec9",
   "metadata": {},
   "source": [
    "# Analysis of Australian Political Ads on Facebook\n",
    "Author: Joshua Wang"
   ]
  },
  {
   "cell_type": "code",
   "execution_count": 76,
   "id": "2dd1a2cf-f8b8-4833-8c6c-db75ea71a732",
   "metadata": {},
   "outputs": [],
   "source": [
    "from pyspark.sql.functions import concat, col, lower, lit, when, split, monotonically_increasing_id"
   ]
  },
  {
   "cell_type": "markdown",
   "id": "1e20910d-52f1-442c-8d20-0d50baf5c2b8",
   "metadata": {},
   "source": [
    "## Dataset Exploration and Cleaning"
   ]
  },
  {
   "cell_type": "markdown",
   "id": "2452c425-57cc-439f-9a29-2cc863a2c61b",
   "metadata": {},
   "source": [
    "### Load datasets being used"
   ]
  },
  {
   "cell_type": "code",
   "execution_count": 77,
   "id": "8bd1d1fd-61e2-4d95-9fcd-8c4bd82f825f",
   "metadata": {},
   "outputs": [
    {
     "name": "stderr",
     "output_type": "stream",
     "text": [
      "                                                                                \r"
     ]
    }
   ],
   "source": [
    "# Load political ad dataset\n",
    "df = spark.read.option(\"header\", True).json('/data/ProjectDatasetFacebookAU')"
   ]
  },
  {
   "cell_type": "code",
   "execution_count": 78,
   "id": "5421f72b-bb0c-45c9-81eb-b36b8cfdee78",
   "metadata": {},
   "outputs": [],
   "source": [
    "# Load all candidates and successfully elected candidates for 2022 federal election (for both house of representatives and senate)\n",
    "house_candidates = spark.read.option(\"header\", True).csv('/user/s4696561/project/house-candidates.csv')\n",
    "house_elected = spark.read.option(\"header\", True).csv('/user/s4696561/project/representatives.csv')\n",
    "senate_candidates = spark.read.option(\"header\", True).csv('/user/s4696561/project/senate-candidates.csv')\n",
    "senate_elected = spark.read.option(\"header\", True).csv('/user/s4696561/project/senators.csv')"
   ]
  },
  {
   "cell_type": "markdown",
   "id": "630ddb36-4c04-4f8b-ba0c-45d3c07f42e3",
   "metadata": {},
   "source": [
    "### Schemas of datasets"
   ]
  },
  {
   "cell_type": "code",
   "execution_count": 79,
   "id": "92efafec-db21-426c-a4a5-174dfeb58788",
   "metadata": {
    "scrolled": true
   },
   "outputs": [
    {
     "name": "stdout",
     "output_type": "stream",
     "text": [
      "root\n",
      " |-- ad_creation_time: string (nullable = true)\n",
      " |-- ad_creative_bodies: array (nullable = true)\n",
      " |    |-- element: string (containsNull = true)\n",
      " |-- ad_creative_body: string (nullable = true)\n",
      " |-- ad_creative_link_caption: string (nullable = true)\n",
      " |-- ad_creative_link_captions: array (nullable = true)\n",
      " |    |-- element: string (containsNull = true)\n",
      " |-- ad_creative_link_description: string (nullable = true)\n",
      " |-- ad_creative_link_descriptions: array (nullable = true)\n",
      " |    |-- element: string (containsNull = true)\n",
      " |-- ad_creative_link_title: string (nullable = true)\n",
      " |-- ad_creative_link_titles: array (nullable = true)\n",
      " |    |-- element: string (containsNull = true)\n",
      " |-- ad_delivery_start_time: string (nullable = true)\n",
      " |-- ad_delivery_stop_time: string (nullable = true)\n",
      " |-- ad_snapshot_url: string (nullable = true)\n",
      " |-- bylines: string (nullable = true)\n",
      " |-- currency: string (nullable = true)\n",
      " |-- delivery_by_region: array (nullable = true)\n",
      " |    |-- element: struct (containsNull = true)\n",
      " |    |    |-- percentage: string (nullable = true)\n",
      " |    |    |-- region: string (nullable = true)\n",
      " |-- demographic_distribution: array (nullable = true)\n",
      " |    |-- element: struct (containsNull = true)\n",
      " |    |    |-- age: string (nullable = true)\n",
      " |    |    |-- gender: string (nullable = true)\n",
      " |    |    |-- percentage: string (nullable = true)\n",
      " |-- estimated_audience_size: struct (nullable = true)\n",
      " |    |-- lower_bound: string (nullable = true)\n",
      " |    |-- upper_bound: string (nullable = true)\n",
      " |-- funding_entity: string (nullable = true)\n",
      " |-- id: string (nullable = true)\n",
      " |-- impressions: struct (nullable = true)\n",
      " |    |-- lower_bound: string (nullable = true)\n",
      " |    |-- upper_bound: string (nullable = true)\n",
      " |-- languages: array (nullable = true)\n",
      " |    |-- element: string (containsNull = true)\n",
      " |-- page_id: string (nullable = true)\n",
      " |-- page_name: string (nullable = true)\n",
      " |-- publisher_platforms: array (nullable = true)\n",
      " |    |-- element: string (containsNull = true)\n",
      " |-- region_distribution: array (nullable = true)\n",
      " |    |-- element: struct (containsNull = true)\n",
      " |    |    |-- percentage: string (nullable = true)\n",
      " |    |    |-- region: string (nullable = true)\n",
      " |-- spend: struct (nullable = true)\n",
      " |    |-- lower_bound: string (nullable = true)\n",
      " |    |-- upper_bound: string (nullable = true)\n",
      "\n"
     ]
    }
   ],
   "source": [
    "df.printSchema()"
   ]
  },
  {
   "cell_type": "code",
   "execution_count": 80,
   "id": "f75f59f1-2a5f-475d-b855-24d6baf1897d",
   "metadata": {
    "scrolled": true
   },
   "outputs": [
    {
     "data": {
      "text/plain": [
       "Row(ad_creation_time='2021-11-21', ad_creative_bodies=None, ad_creative_body=\"I'm ready to fight Scott Morrison's Cashless Pension Card being rolled out in Lilley.\", ad_creative_link_caption=None, ad_creative_link_captions=None, ad_creative_link_description=None, ad_creative_link_descriptions=None, ad_creative_link_title='Cashless Pension Card', ad_creative_link_titles=None, ad_delivery_start_time='2021-11-21', ad_delivery_stop_time=None, ad_snapshot_url='https://www.facebook.com/ads/archive/render_ad/?id=966461410889234&access_token=EAAG7mM7GdIsBADfD3puwsjZBZCoYLv4bKLXwzw6Fdne1DYSDXo0je6isRr8yEgaZAxFncyzRs1RPJxebw77MaXZBI12hOs9cjPVAN11L4vrY6ddT1dEZCoEOFje4uBkA1Nn6kY3FkgO7zZBNpxUpkq2ijrzRaa2Mm1EyZCGdz3KcS6KDaHduw6NfcorBcQwKq0ZD', bylines=None, currency='AUD', delivery_by_region=None, demographic_distribution=[Row(age='55-64', gender='unknown', percentage='0.001232'), Row(age='65+', gender='unknown', percentage='0.017252'), Row(age='55-64', gender='female', percentage='0.057917'), Row(age='65+', gender='female', percentage='0.528651'), Row(age='65+', gender='male', percentage='0.35305'), Row(age='55-64', gender='male', percentage='0.041898')], estimated_audience_size=None, funding_entity='Anika Wells MP', id='966461410889234', impressions=Row(lower_bound='2000', upper_bound='2999'), languages=None, page_id='2063329587276680', page_name='Anika Wells MP', publisher_platforms=None, region_distribution=[Row(percentage='1', region='Queensland')], spend=Row(lower_bound='100', upper_bound='199'))"
      ]
     },
     "execution_count": 80,
     "metadata": {},
     "output_type": "execute_result"
    }
   ],
   "source": [
    "df.head()"
   ]
  },
  {
   "cell_type": "code",
   "execution_count": 81,
   "id": "8cf89e4e-20bc-4c72-aaf4-58eee9f7373f",
   "metadata": {
    "scrolled": true
   },
   "outputs": [
    {
     "name": "stdout",
     "output_type": "stream",
     "text": [
      "root\n",
      " |-- state: string (nullable = true)\n",
      " |-- division: string (nullable = true)\n",
      " |-- ballotPosition: string (nullable = true)\n",
      " |-- surname: string (nullable = true)\n",
      " |-- ballotGivenName: string (nullable = true)\n",
      " |-- partyBallotName: string (nullable = true)\n",
      "\n",
      "root\n",
      " |-- Person ID: string (nullable = true)\n",
      " |-- First name: string (nullable = true)\n",
      " |-- Last name: string (nullable = true)\n",
      " |-- Party: string (nullable = true)\n",
      " |-- Division: string (nullable = true)\n",
      " |-- URI: string (nullable = true)\n",
      "\n",
      "root\n",
      " |-- state: string (nullable = true)\n",
      " |-- column: string (nullable = true)\n",
      " |-- ballotPosition: string (nullable = true)\n",
      " |-- surname: string (nullable = true)\n",
      " |-- ballotGivenName: string (nullable = true)\n",
      " |-- groupName: string (nullable = true)\n",
      " |-- partyBallotName: string (nullable = true)\n",
      "\n",
      "root\n",
      " |-- Person ID: string (nullable = true)\n",
      " |-- Name: string (nullable = true)\n",
      " |-- Party: string (nullable = true)\n",
      " |-- URI: string (nullable = true)\n",
      "\n"
     ]
    }
   ],
   "source": [
    "house_candidates.printSchema()\n",
    "house_elected.printSchema()\n",
    "senate_candidates.printSchema()\n",
    "senate_elected.printSchema()"
   ]
  },
  {
   "cell_type": "markdown",
   "id": "1c074d35-23b6-4988-9f57-de52f845599a",
   "metadata": {},
   "source": [
    "### Cleaning Data"
   ]
  },
  {
   "cell_type": "code",
   "execution_count": 82,
   "id": "7b092e9f-7d27-4fad-9509-c41b7eda18aa",
   "metadata": {},
   "outputs": [],
   "source": [
    "ad_data = df.select(\n",
    "    \"id\",\n",
    "    \"page_id\",\n",
    "    \"demographic_distribution\", # breakdown of age and gender groups presented with the ad\n",
    "    \"funding_entity\", # person paying for ad\n",
    "    \"page_name\", # page paying for ad (likely the same as funding_entity, included for checking)\n",
    "    \"impressions\", # number of people who saw the ad - gives a lower and upper bound\n",
    "    \"region_distribution\", # which states/territories the ad is run in\n",
    "    \"spend\", # cost of ad - gives a lower and upper bound\n",
    "    \"ad_creation_time\",\n",
    "    \"ad_delivery_start_time\",\n",
    "    \"ad_delivery_stop_time\"\n",
    ")"
   ]
  },
  {
   "cell_type": "code",
   "execution_count": 83,
   "id": "d9e63bd4-04e3-4d2a-8065-1ba3bfb49335",
   "metadata": {},
   "outputs": [],
   "source": [
    "# Need to fix names since candidates file includes middle names but elected people only records first names - this will mess up joins and ad searching so change to only using first names\n",
    "house_candidates = house_candidates.withColumn(\"ballotGivenName\", split(col(\"ballotGivenName\"), \" \")[0])\n",
    "senate_candidates = senate_candidates.withColumn(\"ballotGivenName\", split(col(\"ballotGivenName\"), \" \")[0])"
   ]
  },
  {
   "cell_type": "code",
   "execution_count": 115,
   "id": "faf4d198-d251-491c-a602-b919c4ffd48f",
   "metadata": {},
   "outputs": [
    {
     "name": "stderr",
     "output_type": "stream",
     "text": [
      "                                                                                \r"
     ]
    }
   ],
   "source": [
    "# Give an ID to each candidate for easier tracking of people\n",
    "house_candidates = house_candidates.withColumn(\"id\", monotonically_increasing_id())\n",
    "senate_candidates = senate_candidates.withColumn(\"id\", monotonically_increasing_id() + house_candidates.count())"
   ]
  },
  {
   "cell_type": "code",
   "execution_count": 116,
   "id": "02394a7d-2bac-4919-9335-20019a77dbc7",
   "metadata": {},
   "outputs": [],
   "source": [
    "# In 2023, Cameron Caldwell was elected after the resignation of Stuart Robert.\n",
    "# Since my analysis is focussed on ad spending leading up to the 2022 federal elections, Stuart Robert will be considered as \"elected\" rather than Cameron.\n",
    "# Manually replace Cameron Caldwell with Stuart Robert in successful candidates dataframe.\n",
    "house_elected = house_elected.withColumn(\n",
    "    \"First name\",\n",
    "    when(house_elected[\"First name\"] == \"Cameron\", \"Stuart\")\n",
    "    .otherwise(house_elected[\"First name\"])\n",
    ").withColumn(\n",
    "    \"Last name\",\n",
    "    when(house_elected[\"Last name\"] == \"Caldwell\", \"Robert\")\n",
    "    .otherwise(house_elected[\"Last name\"])\n",
    ")"
   ]
  },
  {
   "cell_type": "code",
   "execution_count": 117,
   "id": "4bfe1005-edf1-4eeb-b061-f60cef0d78f3",
   "metadata": {},
   "outputs": [],
   "source": [
    "# Get full names for all entries in each dataset and convert all to lowercase for easier comparison with ad data\n",
    "house_candidate_concatenated = house_candidates.withColumn(\"full_name\", concat(lower(col(\"ballotGivenName\")), lit(\" \"), lower(col(\"surname\"))))\n",
    "senate_candidate_concatenated = senate_candidates.withColumn(\"full_name\", concat(lower(col(\"ballotGivenName\")), lit(\" \"), lower(col(\"surname\"))))\n",
    "house_elected_concatenated = house_elected.withColumn(\"full_name\", concat(lower(col(\"First name\")), lit(\" \"), lower(col(\"Last name\"))))\n",
    "senate_elected_concatenated = senate_elected.withColumn(\"full_name\", lower(col(\"Name\"))) "
   ]
  },
  {
   "cell_type": "code",
   "execution_count": 118,
   "id": "f3d1d18f-f3fa-4c8e-bddd-14633e7f3dbb",
   "metadata": {},
   "outputs": [],
   "source": [
    "# Only take data we need for more efficient processing and rename data for consistency\n",
    "house_candidates_details = house_candidate_concatenated.select(\"id\", \"full_name\", \"partyBallotName\", \"state\").withColumnRenamed(\"partyBallotName\", \"party\")\n",
    "senate_candidates_details = senate_candidate_concatenated.select(\"id\", \"full_name\", \"partyBallotName\", \"state\").withColumnRenamed(\"partyBallotName\", \"party\")"
   ]
  },
  {
   "cell_type": "code",
   "execution_count": 119,
   "id": "2035dbae-a812-46ad-b4c5-061e609be0e7",
   "metadata": {},
   "outputs": [],
   "source": [
    "# Some parties used different names on ballots - standardise these\n",
    "house_candidates_details = house_candidates_details.withColumn(\n",
    "    \"party\",\n",
    "    when(\n",
    "        (house_candidates_details[\"party\"] == \"A.L.P.\") | (house_candidates_details[\"party\"] == \"Labor\"),\n",
    "        \"Australian Labor Party\"\n",
    "    ).when(\n",
    "        (house_candidates_details[\"party\"] == \"The Greens (WA)\") | (house_candidates_details[\"party\"] == \"Queensland Greens\")\n",
    "        | (house_candidates_details[\"party\"] == \"The Greens\"),\n",
    "        \"Australian Greens\"\n",
    "    ).when(\n",
    "        (house_candidates_details[\"party\"] == \"Liberal National Party of Queensland\") | (house_candidates_details[\"party\"] == \"Liberal\")\n",
    "        | (house_candidates_details[\"party\"] == \"Liberal Party\") | (house_candidates_details[\"party\"] == \"National Party\")\n",
    "        | (house_candidates_details[\"party\"] == \"The Nationals\"),\n",
    "        \"Liberal-National Coalition\" # Consider liberal and national parties as one party since they often run together\n",
    "    ).when(\n",
    "        (house_candidates_details[\"party\"] == \"Democratic Alliance\"),\n",
    "        \"Drew Pavlou Democratic Alliance\"\n",
    "    ).when(\n",
    "        (house_candidates_details[\"party\"].isNull()),\n",
    "        \"Independent\"\n",
    "    )\n",
    "    .otherwise(house_candidates_details[\"party\"])\n",
    ")\n",
    "\n",
    "senate_candidates_details = senate_candidates_details.withColumn(\n",
    "    \"party\",\n",
    "    when(\n",
    "        (senate_candidates_details[\"party\"] == \"A.L.P.\") | (senate_candidates_details[\"party\"] == \"Labor\"),\n",
    "        \"Australian Labor Party\"\n",
    "    ).when(\n",
    "        (senate_candidates_details[\"party\"] == \"The Greens (WA)\") | (senate_candidates_details[\"party\"] == \"Queensland Greens\")\n",
    "        | (senate_candidates_details[\"party\"] == \"The Greens\"),\n",
    "        \"Australian Greens\"\n",
    "    ).when(\n",
    "        (senate_candidates_details[\"party\"] == \"Liberal National Party of Queensland\") | (senate_candidates_details[\"party\"] == \"Liberal\")\n",
    "        | (senate_candidates_details[\"party\"] == \"Liberal Party\") | (senate_candidates_details[\"party\"] == \"National Party\")\n",
    "        | (senate_candidates_details[\"party\"] == \"The Nationals\"),\n",
    "        \"Liberal-National Coalition\" # Consider liberal and national parties as one party since they often run together\n",
    "    ).when(\n",
    "        (senate_candidates_details[\"party\"] == \"Democratic Alliance\"),\n",
    "        \"Drew Pavlou Democratic Alliance\"\n",
    "    ).when(\n",
    "        (senate_candidates_details[\"party\"].isNull()),\n",
    "        \"Independent\"\n",
    "    )\n",
    "    .otherwise(senate_candidates_details[\"party\"])\n",
    ")"
   ]
  },
  {
   "cell_type": "code",
   "execution_count": 120,
   "id": "9b4ca99c-9d81-42c0-aded-55eb8668e944",
   "metadata": {},
   "outputs": [],
   "source": [
    "# Dataset of elected candidates doesn't contain state represented - get this from all candidates dataset\n",
    "house_elected_details = house_elected_concatenated.join(\n",
    "    house_candidates_details,\n",
    "    house_candidates_details.full_name == house_elected_concatenated.full_name,\n",
    "    'left'\n",
    ").select(\n",
    "    \"id\",\n",
    "    house_elected_concatenated.full_name,\n",
    "    house_candidates_details.party,\n",
    "    \"state\"\n",
    ")\n",
    "\n",
    "# There are 2 \"David Smiths\" and no way to filter based off information available, so drop the incorrect one manually\n",
    "house_elected_details = house_elected_details.filter(\n",
    "    ~((house_elected_details[\"full_name\"] == \"david smith\")\n",
    "      & (house_elected_details[\"party\"] == \"United Australia Party\"))\n",
    ")"
   ]
  },
  {
   "cell_type": "code",
   "execution_count": 121,
   "id": "21d6b353-d4df-4da0-84a6-811f0400413e",
   "metadata": {},
   "outputs": [],
   "source": [
    "# Only 40 of the total 76 seats in the senate were availabe during the 2022 federal election (was a half senate election, other half continuing from 2019).\n",
    "# We will only analyse ad spending of senate candidates running in the 2022 election, as ad data for 2019 is unavailable.\n",
    "# Resignations and other factors result in only 36 senators available for analysis.\n",
    "senate_elected_details = senate_elected_concatenated.join(\n",
    "    senate_candidates_details,\n",
    "    senate_candidates_details.full_name == senate_elected_concatenated.full_name,\n",
    "    'inner'\n",
    ").select(\n",
    "    \"id\",\n",
    "    senate_elected_concatenated.full_name,\n",
    "    senate_candidates_details.party,\n",
    "    \"state\"\n",
    ")"
   ]
  },
  {
   "cell_type": "markdown",
   "id": "11c9e50b-7232-4bd7-837c-ce3abc0aca7c",
   "metadata": {},
   "source": [
    "### Resulting Schemas and Sizes of Datasets"
   ]
  },
  {
   "cell_type": "code",
   "execution_count": 122,
   "id": "f419de82-b303-4fea-9256-b9f7dbeddeaf",
   "metadata": {},
   "outputs": [
    {
     "name": "stdout",
     "output_type": "stream",
     "text": [
      "root\n",
      " |-- id: string (nullable = true)\n",
      " |-- page_id: string (nullable = true)\n",
      " |-- demographic_distribution: array (nullable = true)\n",
      " |    |-- element: struct (containsNull = true)\n",
      " |    |    |-- age: string (nullable = true)\n",
      " |    |    |-- gender: string (nullable = true)\n",
      " |    |    |-- percentage: string (nullable = true)\n",
      " |-- funding_entity: string (nullable = true)\n",
      " |-- page_name: string (nullable = true)\n",
      " |-- impressions: struct (nullable = true)\n",
      " |    |-- lower_bound: string (nullable = true)\n",
      " |    |-- upper_bound: string (nullable = true)\n",
      " |-- region_distribution: array (nullable = true)\n",
      " |    |-- element: struct (containsNull = true)\n",
      " |    |    |-- percentage: string (nullable = true)\n",
      " |    |    |-- region: string (nullable = true)\n",
      " |-- spend: struct (nullable = true)\n",
      " |    |-- lower_bound: string (nullable = true)\n",
      " |    |-- upper_bound: string (nullable = true)\n",
      " |-- ad_creation_time: string (nullable = true)\n",
      " |-- ad_delivery_start_time: string (nullable = true)\n",
      " |-- ad_delivery_stop_time: string (nullable = true)\n",
      "\n"
     ]
    }
   ],
   "source": [
    "ad_data.printSchema()"
   ]
  },
  {
   "cell_type": "code",
   "execution_count": 123,
   "id": "f6c6aa3d-eddb-4aba-b1de-b722c23977e9",
   "metadata": {},
   "outputs": [
    {
     "name": "stdout",
     "output_type": "stream",
     "text": [
      "root\n",
      " |-- id: long (nullable = false)\n",
      " |-- full_name: string (nullable = true)\n",
      " |-- party: string (nullable = true)\n",
      " |-- state: string (nullable = true)\n",
      "\n",
      "root\n",
      " |-- id: long (nullable = false)\n",
      " |-- full_name: string (nullable = true)\n",
      " |-- party: string (nullable = true)\n",
      " |-- state: string (nullable = true)\n",
      "\n",
      "root\n",
      " |-- id: long (nullable = true)\n",
      " |-- full_name: string (nullable = true)\n",
      " |-- party: string (nullable = true)\n",
      " |-- state: string (nullable = true)\n",
      "\n",
      "root\n",
      " |-- id: long (nullable = false)\n",
      " |-- full_name: string (nullable = true)\n",
      " |-- party: string (nullable = true)\n",
      " |-- state: string (nullable = true)\n",
      "\n"
     ]
    }
   ],
   "source": [
    "house_candidates_details.printSchema()\n",
    "senate_candidates_details.printSchema()\n",
    "house_elected_details.printSchema()\n",
    "senate_elected_details.printSchema()"
   ]
  },
  {
   "cell_type": "markdown",
   "id": "31bab425-5523-47e1-9da6-c6626f2d9618",
   "metadata": {},
   "source": [
    "## Joining Datasets for Analysis"
   ]
  },
  {
   "cell_type": "code",
   "execution_count": 124,
   "id": "cb7c746a-36d2-42ca-a73c-feb4ba66c929",
   "metadata": {},
   "outputs": [],
   "source": [
    "# Create a single dataset of all candidates and two additional columns:\n",
    "#    - election_type: [house, senate]\n",
    "#    - elected: [True, False]\n",
    "house_data = house_candidates_details.alias('a').join(\n",
    "    house_elected_details.alias('b'),\n",
    "    col(\"a.id\") == col(\"b.id\"), \"left\"\n",
    ").withColumn(\n",
    "    \"elected\", col(\"b.id\").isNotNull()\n",
    ").withColumn(\n",
    "    \"election_type\", lit(\"house\")\n",
    ").select(\n",
    "    \"a.id\",\n",
    "    \"a.full_name\",\n",
    "    \"a.party\",\n",
    "    \"a.state\",\n",
    "    \"elected\",\n",
    "    \"election_type\"\n",
    ")\n",
    "\n",
    "senate_data = senate_candidates_details.alias('a').join(\n",
    "    senate_elected_details.alias('b'),\n",
    "    col(\"a.id\") == col(\"b.id\"), \"left\"\n",
    ").withColumn(\n",
    "    \"elected\", col(\"b.id\").isNotNull()\n",
    ").withColumn(\n",
    "    \"election_type\", lit(\"senate\")\n",
    ").select(\n",
    "    \"a.id\",\n",
    "    \"a.full_name\",\n",
    "    \"a.party\",\n",
    "    \"a.state\",\n",
    "    \"elected\",\n",
    "    \"election_type\"\n",
    ")"
   ]
  },
  {
   "cell_type": "code",
   "execution_count": 125,
   "id": "df375f03-8e39-4345-87e8-cf9fd83edd15",
   "metadata": {},
   "outputs": [
    {
     "name": "stdout",
     "output_type": "stream",
     "text": [
      "+---+---------------+--------------------+-----+-------+-------------+\n",
      "| id|      full_name|               party|state|elected|election_type|\n",
      "+---+---------------+--------------------+-----+-------+-------------+\n",
      "|  0|    sean conway|United Australia ...|  ACT|  false|        house|\n",
      "|  1|benjamin ambard|Pauline Hanson's ...|  ACT|  false|        house|\n",
      "|  2|    david smith|Australian Labor ...|  ACT|   true|        house|\n",
      "|  3| jamie christie|         Independent|  ACT|  false|        house|\n",
      "|  4| kathryn savery|   Australian Greens|  ACT|  false|        house|\n",
      "|  5|     jane hiatt|Liberal-National ...|  ACT|  false|        house|\n",
      "|  6|catherine smith|United Australia ...|  ACT|  false|        house|\n",
      "|  7|    james miles|Pauline Hanson's ...|  ACT|  false|        house|\n",
      "|  8|       tim bohm|         Independent|  ACT|  false|        house|\n",
      "|  9|   slade minson|Liberal-National ...|  ACT|  false|        house|\n",
      "| 10|      tim hollo|   Australian Greens|  ACT|  false|        house|\n",
      "| 11|   alicia payne|Australian Labor ...|  ACT|   true|        house|\n",
      "| 12|   andrew leigh|Australian Labor ...|  ACT|   true|        house|\n",
      "| 13|  nathan kuster|Liberal-National ...|  ACT|  false|        house|\n",
      "| 14|  timothy elton|United Australia ...|  ACT|  false|        house|\n",
      "| 15|    lucia grant|Pauline Hanson's ...|  ACT|  false|        house|\n",
      "| 16|   natasa sojic|   Australian Greens|  ACT|  false|        house|\n",
      "| 17|    guy jakeman|   Liberal Democrats|  ACT|  false|        house|\n",
      "| 18|  david coleman|Liberal-National ...|  NSW|   true|        house|\n",
      "| 19| elouise cocker|   Liberal Democrats|  NSW|  false|        house|\n",
      "+---+---------------+--------------------+-----+-------+-------------+\n",
      "only showing top 20 rows\n",
      "\n",
      "+----+--------------------+--------------------+-----+-------+-------------+\n",
      "|  id|           full_name|               party|state|elected|election_type|\n",
      "+----+--------------------+--------------------+-----+-------+-------------+\n",
      "|1203|      katy gallagher|Australian Labor ...|  ACT|   true|       senate|\n",
      "|1204|       maddy northam|Australian Labor ...|  ACT|  false|       senate|\n",
      "|1205|           joy angel|Sustainable Austr...|  ACT|  false|       senate|\n",
      "|1206|         john haydon|Sustainable Austr...|  ACT|  false|       senate|\n",
      "|1207|    james savoulidis|United Australia ...|  ACT|  false|       senate|\n",
      "|1208|         tracey page|United Australia ...|  ACT|  false|       senate|\n",
      "|1209|         zed seselja|Liberal-National ...|  ACT|  false|       senate|\n",
      "|1210|           kacey lam|Liberal-National ...|  ACT|  false|       senate|\n",
      "|1211|        david pocock|        David Pocock|  ACT|   true|       senate|\n",
      "|1212|         clare doube|        David Pocock|  ACT|  false|       senate|\n",
      "|1213|      kim rubenstein|    Kim for Canberra|  ACT|  false|       senate|\n",
      "|1214|           kim huynh|    Kim for Canberra|  ACT|  false|       senate|\n",
      "|1215|    therese faulkner|Australian Progre...|  ACT|  false|       senate|\n",
      "|1216|         stephen lin|Australian Progre...|  ACT|  false|       senate|\n",
      "|1217|tjanara goreng go...|   Australian Greens|  ACT|  false|       senate|\n",
      "|1218|          james cruz|   Australian Greens|  ACT|  false|       senate|\n",
      "|1219|    andrew katelaris|Legalise Cannabis...|  ACT|  false|       senate|\n",
      "|1220|    michelle stanvic|Legalise Cannabis...|  ACT|  false|       senate|\n",
      "|1221|      yana del valle|Animal Justice Party|  ACT|  false|       senate|\n",
      "|1222|        jannah fahiz|Animal Justice Party|  ACT|  false|       senate|\n",
      "+----+--------------------+--------------------+-----+-------+-------------+\n",
      "only showing top 20 rows\n",
      "\n"
     ]
    }
   ],
   "source": [
    "house_data.show()\n",
    "senate_data.show()"
   ]
  },
  {
   "cell_type": "code",
   "execution_count": 126,
   "id": "0835604f-1f3e-419f-bafc-a96e143da65e",
   "metadata": {},
   "outputs": [],
   "source": [
    "# Dataframe with all candidates\n",
    "all_candidates = house_data.union(senate_data)"
   ]
  },
  {
   "cell_type": "code",
   "execution_count": 130,
   "id": "6ef3e43f-37c5-4b02-bb49-200768ee74c1",
   "metadata": {},
   "outputs": [
    {
     "name": "stdout",
     "output_type": "stream",
     "text": [
      "root\n",
      " |-- id: long (nullable = false)\n",
      " |-- full_name: string (nullable = true)\n",
      " |-- party: string (nullable = true)\n",
      " |-- state: string (nullable = true)\n",
      " |-- elected: boolean (nullable = false)\n",
      " |-- election_type: string (nullable = false)\n",
      "\n"
     ]
    }
   ],
   "source": [
    "all_candidates.printSchema()"
   ]
  },
  {
   "cell_type": "code",
   "execution_count": null,
   "id": "18a56022-6a6b-4d72-afea-8c6f0351d9a7",
   "metadata": {},
   "outputs": [],
   "source": [
    "# Take subset of ad where they are run by candidates in the election"
   ]
  }
 ],
 "metadata": {
  "kernelspec": {
   "display_name": "PySpark",
   "language": "python",
   "name": "pyspark"
  },
  "language_info": {
   "codemirror_mode": {
    "name": "ipython",
    "version": 3
   },
   "file_extension": ".py",
   "mimetype": "text/x-python",
   "name": "python",
   "nbconvert_exporter": "python",
   "pygments_lexer": "ipython3",
   "version": "3.10.13"
  }
 },
 "nbformat": 4,
 "nbformat_minor": 5
}
